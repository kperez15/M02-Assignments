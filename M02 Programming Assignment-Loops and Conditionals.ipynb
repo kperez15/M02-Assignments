{
 "cells": [
  {
   "cell_type": "code",
   "execution_count": 1,
   "id": "6488300a-758b-4d94-8aa2-f4a575fa3e8a",
   "metadata": {},
   "outputs": [
    {
     "name": "stdout",
     "output_type": "stream",
     "text": [
      "Too high\n"
     ]
    }
   ],
   "source": [
    "secret = 3\n",
    "guess = 5\n",
    "if guess < secret:\n",
    "    print ('Too low')\n",
    "elif guess > secret:\n",
    "    print ('Too high')\n",
    "else:\n",
    "    print ('Just right')"
   ]
  },
  {
   "cell_type": "code",
   "execution_count": 2,
   "id": "8b87acec-b8f9-4fea-bf8b-2a62eb0f45e6",
   "metadata": {},
   "outputs": [
    {
     "name": "stdout",
     "output_type": "stream",
     "text": [
      "This matches: cherry\n"
     ]
    }
   ],
   "source": [
    "small = True\n",
    "green = False\n",
    "\n",
    "if small and green:\n",
    "    print ('This matches: pea')\n",
    "elif small and not green:\n",
    "    print ('This matches: cherry')\n",
    "elif not small and green:\n",
    "    print ('This matches: watermelon')\n",
    "elif not small and not green:\n",
    "    print ('This matches: pumpkin')\n",
    "else:\n",
    "    print ('Invalid combination of values for small and green')"
   ]
  },
  {
   "cell_type": "code",
   "execution_count": 3,
   "id": "7c00d01b-bfd0-48bd-bd96-bd1c562a5f30",
   "metadata": {},
   "outputs": [
    {
     "name": "stdout",
     "output_type": "stream",
     "text": [
      "3\n",
      "2\n",
      "1\n",
      "0\n"
     ]
    }
   ],
   "source": [
    "numbers = [3, 2, 1, 0]\n",
    "for num in numbers:\n",
    "    print (num)"
   ]
  },
  {
   "cell_type": "code",
   "execution_count": null,
   "id": "b38eae38-2ef7-480c-823a-58228356134f",
   "metadata": {},
   "outputs": [],
   "source": [
    "guess_me = 7\n",
    "number = 1\n",
    "\n",
    "while number <= guess_me:\n",
    "    if number < guess_me:\n",
    "        print ('too low')\n",
    "    elif number == guess_me:\n",
    "        print ('found it!')\n",
    "        break\n",
    "    else:\n",
    "        print ('oops')\n",
    "        break\n",
    "\n",
    "    number += 1"
   ]
  },
  {
   "cell_type": "code",
   "execution_count": null,
   "id": "e523c467-7ba3-4c32-9c22-a5b3b7625f56",
   "metadata": {},
   "outputs": [],
   "source": [
    "guess_me = 5\n",
    "\n",
    "for number in range (10):\n",
    "    if number < guess_me:\n",
    "        print ('too low')\n",
    "    elif number == guess_me:\n",
    "        print ('found it!')\n",
    "        break\n",
    "    else:\n",
    "        print ('oops')\n",
    "        break"
   ]
  }
 ],
 "metadata": {
  "kernelspec": {
   "display_name": "Python 3 (ipykernel)",
   "language": "python",
   "name": "python3"
  },
  "language_info": {
   "codemirror_mode": {
    "name": "ipython",
    "version": 3
   },
   "file_extension": ".py",
   "mimetype": "text/x-python",
   "name": "python",
   "nbconvert_exporter": "python",
   "pygments_lexer": "ipython3",
   "version": "3.12.1"
  }
 },
 "nbformat": 4,
 "nbformat_minor": 5
}
